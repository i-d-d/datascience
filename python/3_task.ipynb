{
 "cells": [
  {
   "cell_type": "markdown",
   "id": "657be689",
   "metadata": {},
   "source": [
    "# Самостоятельное задание #3\n",
    "\n",
    "\n",
    "### Задание 1\n",
    "\n",
    "Допишите функцию, которая принимает массив из 10 чисел и возвращает их сумму."
   ]
  },
  {
   "cell_type": "code",
   "execution_count": 13,
   "id": "18ffcbab",
   "metadata": {},
   "outputs": [],
   "source": [
    "def summ(A):\n",
    "    res = 0\n",
    "    for i in A:\n",
    "        res += i\n",
    "    return res"
   ]
  },
  {
   "cell_type": "markdown",
   "id": "eb78afc0",
   "metadata": {},
   "source": [
    "\n",
    "### Задание 2\n",
    "\n",
    "Допишите функцию, которая принимает массив чисел и возвращает количество чисел равных нулю."
   ]
  },
  {
   "cell_type": "code",
   "execution_count": 28,
   "id": "7e8fe536",
   "metadata": {},
   "outputs": [],
   "source": [
    "def zeroCount(A):\n",
    "    res = 0\n",
    "    for i in A:\n",
    "        if i == 0:\n",
    "            res += 1\n",
    "    return res"
   ]
  },
  {
   "cell_type": "markdown",
   "id": "570d5a26",
   "metadata": {},
   "source": [
    "\n",
    "### Задание 3\n",
    "\n",
    "Напишите программу, в которой задается  натуральное число n и выводится лестница из n ступенек, i-я ступенька должна состоять из чисел от 1 до i без пробелов."
   ]
  },
  {
   "cell_type": "code",
   "execution_count": 27,
   "id": "69fd0501",
   "metadata": {},
   "outputs": [
    {
     "name": "stdout",
     "output_type": "stream",
     "text": [
      "1\n",
      "12\n",
      "123\n",
      "1234\n",
      "12345\n",
      "123456\n",
      "1234567\n",
      "12345678\n",
      "123456789\n"
     ]
    }
   ],
   "source": [
    "n = int(input())\n",
    "i = 1\n",
    "while i <= n:\n",
    "    j = 1\n",
    "    while j <= i:\n",
    "        print(j, end=\"\")\n",
    "        j += 1\n",
    "    i += 1\n",
    "    print()"
   ]
  },
  {
   "cell_type": "markdown",
   "id": "b6ef1c44",
   "metadata": {},
   "source": [
    "\n",
    "### Задание 4\n",
    "\n",
    "Напишите программу, в которой задается натуральное число n и выводится пирамида из n ступенек, i-я ступень должна состоять из чисел от 1 до i и обратно без пробелов."
   ]
  },
  {
   "cell_type": "code",
   "execution_count": 32,
   "id": "6b038f87",
   "metadata": {},
   "outputs": [
    {
     "name": "stdout",
     "output_type": "stream",
     "text": [
      "       1\n",
      "      121\n",
      "     12321\n",
      "    1234321\n",
      "   123454321\n",
      "  12345654321\n",
      " 1234567654321\n",
      "123456787654321\n"
     ]
    }
   ],
   "source": [
    "n = int(input())\n",
    "i = 1\n",
    "while i <= n:\n",
    "    j = 1\n",
    "    for k in range(0, n - i):\n",
    "        print(\" \", end=\"\")\n",
    "    while j <= i:\n",
    "        print(j, end=\"\")\n",
    "        j += 1\n",
    "    j -= 2\n",
    "    while j >= 1:\n",
    "        print(j, end=\"\")\n",
    "        j -= 1\n",
    "    i += 1\n",
    "    print()"
   ]
  },
  {
   "cell_type": "markdown",
   "id": "b4552ef5",
   "metadata": {},
   "source": [
    "\n",
    "### Задание 5\n",
    "\n",
    "Напишите программу, в которой задается натуральное число n и выводится ромб из `n*2-1` ступенек, i-я ступень должна состоять из чисел от 1 до i и обратно без пробелов."
   ]
  },
  {
   "cell_type": "code",
   "execution_count": 37,
   "id": "5eaae897",
   "metadata": {},
   "outputs": [
    {
     "name": "stdout",
     "output_type": "stream",
     "text": [
      "       1\n",
      "      121\n",
      "     12321\n",
      "    1234321\n",
      "   123454321\n",
      "  12345654321\n",
      " 1234567654321\n",
      "123456787654321\n",
      " 1234567654321\n",
      "  12345654321\n",
      "   123454321\n",
      "    1234321\n",
      "     12321\n",
      "      121\n",
      "       1\n"
     ]
    }
   ],
   "source": [
    "n = int(input())\n",
    "i = 1\n",
    "while i <= n:\n",
    "    j = 1\n",
    "    for k in range(0, n - i):\n",
    "        print(\" \", end=\"\")\n",
    "    while j <= i:\n",
    "        print(j, end=\"\")\n",
    "        j += 1\n",
    "    j -= 2\n",
    "    while j >= 1:\n",
    "        print(j, end=\"\")\n",
    "        j -= 1\n",
    "    i += 1\n",
    "    print()\n",
    "i -= 2\n",
    "while i >= 1:\n",
    "    j = 1\n",
    "    for k in range(0, n - i):\n",
    "        print(\" \", end=\"\")\n",
    "    while j <= i:\n",
    "        print(j, end=\"\")\n",
    "        j += 1\n",
    "    j -= 2\n",
    "    while j >= 1:\n",
    "        print(j, end=\"\")\n",
    "        j -= 1\n",
    "    i -= 1\n",
    "    print()"
   ]
  }
 ],
 "metadata": {
  "kernelspec": {
   "display_name": "Python 3",
   "language": "python",
   "name": "python3"
  },
  "language_info": {
   "codemirror_mode": {
    "name": "ipython",
    "version": 3
   },
   "file_extension": ".py",
   "mimetype": "text/x-python",
   "name": "python",
   "nbconvert_exporter": "python",
   "pygments_lexer": "ipython3",
   "version": "3.9.7"
  }
 },
 "nbformat": 4,
 "nbformat_minor": 5
}
