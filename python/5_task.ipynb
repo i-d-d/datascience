{
 "cells": [
  {
   "cell_type": "markdown",
   "id": "85755de8",
   "metadata": {},
   "source": [
    "# Самостоятельное задание #5\n",
    "\n",
    "\n",
    "### Задание 1\n",
    "\n",
    "Допишите функцию, которая принимает список, выбирает из него все элементы с четным индексом и возвращает их в виде списка."
   ]
  },
  {
   "cell_type": "code",
   "execution_count": 8,
   "id": "6ef6d9b3",
   "metadata": {},
   "outputs": [],
   "source": [
    "def even(A):\n",
    "    B = []\n",
    "    for i in range(0, len(A), 2):\n",
    "        B.append(A[i])\n",
    "    return B"
   ]
  },
  {
   "cell_type": "markdown",
   "id": "443974c9",
   "metadata": {},
   "source": [
    "### Задание 2\n",
    "\n",
    "Допишите функцию, которая принимает список, выбирает из него все элементы, которые больше предыдущего и возвращает их в виде списка.\n"
   ]
  },
  {
   "cell_type": "code",
   "execution_count": 7,
   "id": "3a8cf925",
   "metadata": {},
   "outputs": [],
   "source": [
    "def incr(A):\n",
    "    B = []\n",
    "    for i in range(1, len(A)):\n",
    "        if A[i] > A[i - 1]:\n",
    "            B.append(A[i])\n",
    "    return B"
   ]
  },
  {
   "cell_type": "markdown",
   "id": "34524ede",
   "metadata": {},
   "source": [
    "### Задание 3\n",
    "\n",
    "Допишите функцию, которая принимает список, меняет местами наибольший и наименьший элементы и возвращает этот список."
   ]
  },
  {
   "cell_type": "code",
   "execution_count": 15,
   "id": "34d2beae",
   "metadata": {},
   "outputs": [],
   "source": [
    "def swapminmax(A):\n",
    "    imin = A.index(min(A))\n",
    "    imax = A.index(max(A))\n",
    "    A[imin], A[imax] = A[imax], A[imin]\n",
    "    return A"
   ]
  }
 ],
 "metadata": {
  "kernelspec": {
   "display_name": "Python 3.9.13 64-bit (microsoft store)",
   "language": "python",
   "name": "python3"
  },
  "language_info": {
   "codemirror_mode": {
    "name": "ipython",
    "version": 3
   },
   "file_extension": ".py",
   "mimetype": "text/x-python",
   "name": "python",
   "nbconvert_exporter": "python",
   "pygments_lexer": "ipython3",
   "version": "3.9.13"
  },
  "vscode": {
   "interpreter": {
    "hash": "5c82a6eeec593b915475cce28b3e73f6cd79bc81b8af2eef9981e43bf46f97ae"
   }
  }
 },
 "nbformat": 4,
 "nbformat_minor": 5
}
